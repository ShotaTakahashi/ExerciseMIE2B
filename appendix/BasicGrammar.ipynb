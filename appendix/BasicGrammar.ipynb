{
 "cells": [
  {
   "cell_type": "markdown",
   "id": "99d1de49",
   "metadata": {},
   "source": [
    "# Julia の基本文法\n",
    "課題で必要な基本文法を解説します．それ以外の内容は適宜調べて下さい．\n",
    "ドキュメント：https://docs.julialang.org/en/v1/\n",
    "### 四則演算など"
   ]
  },
  {
   "cell_type": "code",
   "execution_count": 1,
   "id": "9f7034ba",
   "metadata": {},
   "outputs": [
    {
     "data": {
      "text/plain": [
       "2.0"
      ]
     },
     "execution_count": 1,
     "metadata": {},
     "output_type": "execute_result"
    }
   ],
   "source": [
    "x = 5.0\n",
    "y = 2.0"
   ]
  },
  {
   "cell_type": "code",
   "execution_count": 2,
   "id": "f54f12ce",
   "metadata": {},
   "outputs": [
    {
     "data": {
      "text/plain": [
       "7.0"
      ]
     },
     "execution_count": 2,
     "metadata": {},
     "output_type": "execute_result"
    }
   ],
   "source": [
    "x + y # 加算"
   ]
  },
  {
   "cell_type": "code",
   "execution_count": 3,
   "id": "7af15f36",
   "metadata": {},
   "outputs": [
    {
     "data": {
      "text/plain": [
       "3.0"
      ]
     },
     "execution_count": 3,
     "metadata": {},
     "output_type": "execute_result"
    }
   ],
   "source": [
    "x - y # 減算"
   ]
  },
  {
   "cell_type": "code",
   "execution_count": 4,
   "id": "e831c79b",
   "metadata": {},
   "outputs": [
    {
     "data": {
      "text/plain": [
       "10.0"
      ]
     },
     "execution_count": 4,
     "metadata": {},
     "output_type": "execute_result"
    }
   ],
   "source": [
    "x * y # 乗算"
   ]
  },
  {
   "cell_type": "code",
   "execution_count": 5,
   "id": "e44c2c22",
   "metadata": {},
   "outputs": [
    {
     "data": {
      "text/plain": [
       "2.5"
      ]
     },
     "execution_count": 5,
     "metadata": {},
     "output_type": "execute_result"
    }
   ],
   "source": [
    "x / y # 除算"
   ]
  },
  {
   "cell_type": "code",
   "execution_count": 6,
   "id": "bcf2982b",
   "metadata": {},
   "outputs": [
    {
     "data": {
      "text/plain": [
       "2.0"
      ]
     },
     "execution_count": 6,
     "metadata": {},
     "output_type": "execute_result"
    }
   ],
   "source": [
    "x ÷ y # 整数除算（商）"
   ]
  },
  {
   "cell_type": "code",
   "execution_count": 7,
   "id": "54d988b7",
   "metadata": {},
   "outputs": [
    {
     "data": {
      "text/plain": [
       "1.0"
      ]
     },
     "execution_count": 7,
     "metadata": {},
     "output_type": "execute_result"
    }
   ],
   "source": [
    "x % y # 整数剰余"
   ]
  },
  {
   "cell_type": "code",
   "execution_count": 8,
   "id": "fde8ae9a",
   "metadata": {},
   "outputs": [
    {
     "data": {
      "text/plain": [
       "25.0"
      ]
     },
     "execution_count": 8,
     "metadata": {},
     "output_type": "execute_result"
    }
   ],
   "source": [
    "x^y # べき乗"
   ]
  },
  {
   "cell_type": "markdown",
   "id": "b3bdd926",
   "metadata": {},
   "source": [
    "### 線形代数\n",
    "#### ベクトル\n",
    "まずはベクトルから始める．ベクトルは `[]` 内に値（文字列も可）を `,` 区切りで定義できる．"
   ]
  },
  {
   "cell_type": "code",
   "execution_count": 9,
   "id": "9a564b3c",
   "metadata": {},
   "outputs": [
    {
     "data": {
      "text/plain": [
       "3-element Vector{Float64}:\n",
       "  1.0\n",
       " -2.0\n",
       "  3.0"
      ]
     },
     "execution_count": 9,
     "metadata": {},
     "output_type": "execute_result"
    }
   ],
   "source": [
    "a = 10.0\n",
    "x = [1.0, -2.0, 3.0] # ベクトル"
   ]
  },
  {
   "cell_type": "code",
   "execution_count": 10,
   "id": "06a0d814",
   "metadata": {},
   "outputs": [
    {
     "data": {
      "text/plain": [
       "2-element Vector{Any}:\n",
       "   'a': ASCII/Unicode U+0061 (category Ll: Letter, lowercase)\n",
       " 10.0"
      ]
     },
     "execution_count": 10,
     "metadata": {},
     "output_type": "execute_result"
    }
   ],
   "source": [
    "z = ['a', a] # 文字列と浮動小数点数の混合"
   ]
  },
  {
   "cell_type": "markdown",
   "id": "3abe5f44",
   "metadata": {},
   "source": [
    "ベクトルの要素を表示する．`for` 文と `if` 文を使ってみる．"
   ]
  },
  {
   "cell_type": "code",
   "execution_count": 11,
   "id": "ddeb5156",
   "metadata": {},
   "outputs": [
    {
     "name": "stdout",
     "output_type": "stream",
     "text": [
      "1.0\n",
      "-2.0\n",
      "3.0\n"
     ]
    }
   ],
   "source": [
    "for i=1:length(x) # length(x) で x のサイズを取得する．\n",
    "    println(x[i]) # x の i 成分を表示する． \n",
    "end"
   ]
  },
  {
   "cell_type": "code",
   "execution_count": 12,
   "id": "eec4f534",
   "metadata": {},
   "outputs": [
    {
     "name": "stdout",
     "output_type": "stream",
     "text": [
      "-2.0\n"
     ]
    }
   ],
   "source": [
    "for i=1:length(x) # 偶数の要素のみ表示する．\n",
    "    if x[i] % 2 == 0\n",
    "        println(x[i])\n",
    "    end\n",
    "end"
   ]
  },
  {
   "cell_type": "markdown",
   "id": "c37b4ef2",
   "metadata": {},
   "source": [
    "ベクトルを使った計算をする．`.` を使えば，要素ごとの計算ができる．いろいろ試してみるとよい．"
   ]
  },
  {
   "cell_type": "code",
   "execution_count": 13,
   "id": "ecf6bf59",
   "metadata": {},
   "outputs": [
    {
     "data": {
      "text/plain": [
       "3-element Vector{Float64}:\n",
       "  10.0\n",
       " -20.0\n",
       "  30.0"
      ]
     },
     "execution_count": 13,
     "metadata": {},
     "output_type": "execute_result"
    }
   ],
   "source": [
    "a * x # x の各要素を a 倍する．"
   ]
  },
  {
   "cell_type": "code",
   "execution_count": 14,
   "id": "79adbc86",
   "metadata": {},
   "outputs": [
    {
     "data": {
      "text/plain": [
       "3-element Vector{Float64}:\n",
       " 11.0\n",
       "  8.0\n",
       " 13.0"
      ]
     },
     "execution_count": 14,
     "metadata": {},
     "output_type": "execute_result"
    }
   ],
   "source": [
    "x .+ a # x の各要素に a を足す．"
   ]
  },
  {
   "cell_type": "code",
   "execution_count": 15,
   "id": "a5266120",
   "metadata": {},
   "outputs": [
    {
     "data": {
      "text/plain": [
       "3-element Vector{Float64}:\n",
       " 1.0\n",
       " 2.0\n",
       " 3.0"
      ]
     },
     "execution_count": 15,
     "metadata": {},
     "output_type": "execute_result"
    }
   ],
   "source": [
    "abs.(x) # x の各要素の絶対値．"
   ]
  },
  {
   "cell_type": "code",
   "execution_count": 16,
   "id": "40b8581b",
   "metadata": {},
   "outputs": [
    {
     "data": {
      "text/plain": [
       "3-element Vector{Float64}:\n",
       " 5.0\n",
       " 3.0\n",
       " 9.0"
      ]
     },
     "execution_count": 16,
     "metadata": {},
     "output_type": "execute_result"
    }
   ],
   "source": [
    "y = [4.0, 5.0, 6.0]\n",
    "x + y # 加算"
   ]
  },
  {
   "cell_type": "code",
   "execution_count": 17,
   "id": "8c862ec0",
   "metadata": {},
   "outputs": [
    {
     "data": {
      "text/plain": [
       "3-element Vector{Float64}:\n",
       "   4.0\n",
       " -10.0\n",
       "  18.0"
      ]
     },
     "execution_count": 17,
     "metadata": {},
     "output_type": "execute_result"
    }
   ],
   "source": [
    "x .* y # 乗算（アダマール積）"
   ]
  },
  {
   "cell_type": "code",
   "execution_count": 18,
   "id": "95bd30c1",
   "metadata": {},
   "outputs": [
    {
     "data": {
      "text/plain": [
       "([1.0 -2.0 3.0], [1.0 -2.0 3.0])"
      ]
     },
     "execution_count": 18,
     "metadata": {},
     "output_type": "execute_result"
    }
   ],
   "source": [
    "x', adjoint(x) # x を転置する．"
   ]
  },
  {
   "cell_type": "code",
   "execution_count": 19,
   "id": "26b5ec60",
   "metadata": {},
   "outputs": [
    {
     "data": {
      "text/plain": [
       "(12.0, 12.0)"
      ]
     },
     "execution_count": 19,
     "metadata": {},
     "output_type": "execute_result"
    }
   ],
   "source": [
    "x'y, x'*y # 内積を計算する．"
   ]
  },
  {
   "cell_type": "markdown",
   "id": "40b72209",
   "metadata": {},
   "source": [
    "#### 行列\n",
    "行列は `[]` 内に値を ` `（スペース） と改行で区切って定義する．改行の代わりに `;` でも定義できる．"
   ]
  },
  {
   "cell_type": "code",
   "execution_count": 20,
   "id": "eff66cfb",
   "metadata": {},
   "outputs": [
    {
     "data": {
      "text/plain": [
       "3×3 Matrix{Float64}:\n",
       " 1.0  2.0  3.0\n",
       " 4.0  5.0  6.0\n",
       " 7.0  8.0  9.0"
      ]
     },
     "execution_count": 20,
     "metadata": {},
     "output_type": "execute_result"
    }
   ],
   "source": [
    "A = [\n",
    "    1.0 2.0 3.0\n",
    "    4.0 5.0 6.0\n",
    "    7.0 8.0 9.0\n",
    "]"
   ]
  },
  {
   "cell_type": "code",
   "execution_count": 21,
   "id": "3bfb6abc",
   "metadata": {},
   "outputs": [
    {
     "data": {
      "text/plain": [
       "3×3 Matrix{Float64}:\n",
       " 1.0  2.0  3.0\n",
       " 4.0  5.0  6.0\n",
       " 7.0  8.0  9.0"
      ]
     },
     "execution_count": 21,
     "metadata": {},
     "output_type": "execute_result"
    }
   ],
   "source": [
    "A = [1.0 2.0 3.0; 4.0 5.0 6.0; 7.0 8.0 9.0]"
   ]
  },
  {
   "cell_type": "markdown",
   "id": "09b01a25",
   "metadata": {},
   "source": [
    "行列を使った計算をする．ベクトルの場合と同じなので，各自いろいろ試してみるとよい．"
   ]
  },
  {
   "cell_type": "code",
   "execution_count": 22,
   "id": "1de20467",
   "metadata": {},
   "outputs": [
    {
     "data": {
      "text/plain": [
       "3×3 Matrix{Float64}:\n",
       "  2.0   3.0   4.0\n",
       "  2.0   3.0   4.0\n",
       " 10.0  11.0  12.0"
      ]
     },
     "execution_count": 22,
     "metadata": {},
     "output_type": "execute_result"
    }
   ],
   "source": [
    "A.+x"
   ]
  },
  {
   "cell_type": "code",
   "execution_count": 23,
   "id": "95f2a803",
   "metadata": {},
   "outputs": [
    {
     "data": {
      "text/plain": [
       "3-element Vector{Float64}:\n",
       "  6.0\n",
       " 12.0\n",
       " 18.0"
      ]
     },
     "execution_count": 23,
     "metadata": {},
     "output_type": "execute_result"
    }
   ],
   "source": [
    "A*x"
   ]
  },
  {
   "cell_type": "code",
   "execution_count": 24,
   "id": "1cbf1a96",
   "metadata": {},
   "outputs": [
    {
     "data": {
      "text/plain": [
       "3×3 Matrix{Float64}:\n",
       "  1.0    2.0    3.0\n",
       " -8.0  -10.0  -12.0\n",
       " 21.0   24.0   27.0"
      ]
     },
     "execution_count": 24,
     "metadata": {},
     "output_type": "execute_result"
    }
   ],
   "source": [
    "A.*x # この計算は一つ前の計算とは違う．"
   ]
  }
 ],
 "metadata": {
  "kernelspec": {
   "display_name": "Julia 1.9.1",
   "language": "julia",
   "name": "julia-1.9"
  },
  "language_info": {
   "file_extension": ".jl",
   "mimetype": "application/julia",
   "name": "julia",
   "version": "1.9.2"
  }
 },
 "nbformat": 4,
 "nbformat_minor": 5
}
