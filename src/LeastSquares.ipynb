{
 "cells": [
  {
   "cell_type": "markdown",
   "id": "bb21ee4e",
   "metadata": {},
   "source": [
    "# 最小二乗問題\n",
    "### 問題の準備"
   ]
  },
  {
   "cell_type": "code",
   "execution_count": 1,
   "id": "9496353b",
   "metadata": {},
   "outputs": [],
   "source": [
    "using CSV\n",
    "using DataFrames\n",
    "using LinearAlgebra\n",
    "using Random\n",
    "using SparseArrays\n",
    "using Plots\n",
    "\n",
    "include(\"Algorithm.jl\")\n",
    "include(\"Operator.jl\")\n",
    "\n",
    "loss(x) = norm(A*x - b)^2/2\n",
    "reg(x) = theta * sum(abs.(x))\n",
    "obj(x) = loss(x) + reg(x)\n",
    "\n",
    "grad(x) = A' * (A *x - b)\n",
    "\n",
    "rng = MersenneTwister(1234)\n",
    "n = 200\n",
    "m = 300 # 自由に変えてもよいですが，n < m を推奨．\n",
    "sparsity = 0.05\n",
    "theta = .00015 # θ とすることも可能\n",
    "\n",
    "A = randn(rng, Float64, (m, n))\n",
    "foreach(normalize!, eachcol(A))\n",
    "x = Array(sprandn(rng, n, sparsity))\n",
    "b = A * x\n",
    "\n",
    "lambda = 1.0\n",
    "\n",
    "rng = MersenneTwister(5)\n",
    "x0 = randn(rng, Float64, n)\n",
    "maximum_iter = 10\n",
    "tol = 1e-1\n",
    "\n",
    "result_dir = \"./results/least-squares_$n-$m-$sparsity-$theta\"\n",
    "if !ispath(\"./results\")\n",
    "    mkdir(\"./results\")\n",
    "end"
   ]
  },
  {
   "cell_type": "markdown",
   "id": "a3c1d4a7",
   "metadata": {},
   "source": [
    "### 近接勾配法を実行する\n",
    "初回のコンパイルでは \"94.45% compilation time\"等と表示されます．\n",
    "何回か繰り返すと表示されなくなるので，そのデータを使うと計算時間が比較できる．\n",
    "これは Just In Time (JIT) コンパイルによる高速化が原因です（なので Julia は速い）．"
   ]
  },
  {
   "cell_type": "code",
   "execution_count": 2,
   "id": "1e3a8edd",
   "metadata": {},
   "outputs": [
    {
     "name": "stdout",
     "output_type": "stream",
     "text": [
      "  0.147143 seconds (728.69 k allocations: 50.089 MiB, 6.38% gc time, 99.59% compilation time)\n"
     ]
    },
    {
     "data": {
      "text/plain": [
       "\"./results/least-squares_200-300-0.05-0.00015-pg.csv\""
      ]
     },
     "execution_count": 2,
     "metadata": {},
     "output_type": "execute_result"
    }
   ],
   "source": [
    "pg = Algorithm.IterativeAlgorithm(x0, maximum_iter, tol)\n",
    "@time Algorithm.run_ISTA(pg, obj, grad, lambda, theta)\n",
    "CSV.write(result_dir * \"-pg.csv\", pg.df)"
   ]
  },
  {
   "cell_type": "code",
   "execution_count": 3,
   "id": "fae9debe",
   "metadata": {},
   "outputs": [
    {
     "name": "stdout",
     "output_type": "stream",
     "text": [
      "  0.009646 seconds (16.84 k allocations: 1.317 MiB, 95.76% compilation time)\n"
     ]
    },
    {
     "data": {
      "text/plain": [
       "\"./results/least-squares_200-300-0.05-0.00015-hoge.csv\""
      ]
     },
     "execution_count": 3,
     "metadata": {},
     "output_type": "execute_result"
    }
   ],
   "source": [
    "# アルゴリズムを加える場合は Algorithm.jl に run_hoge を書き直しましょう．\"hoge\" や \"HOGE\" は適宜変更してください．\n",
    "hoge = Algorithm.IterativeAlgorithm(x0, maximum_iter, tol)\n",
    "@time Algorithm.run_hoge(hoge, obj, grad, lambda, theta)\n",
    "CSV.write(result_dir * \"-hoge.csv\", hoge.df)"
   ]
  },
  {
   "cell_type": "markdown",
   "id": "3dc569b4",
   "metadata": {},
   "source": [
    "### 横軸を反復数にしたもの"
   ]
  },
  {
   "cell_type": "code",
   "execution_count": 4,
   "id": "2766091a",
   "metadata": {},
   "outputs": [
    {
     "name": "stdout",
     "output_type": "stream",
     "text": [
      "saved ./results/least-squares_200-300-0.05-0.00015-diffobj.png\n",
      "saved ./results/least-squares_200-300-0.05-0.00015-objv.png\n"
     ]
    }
   ],
   "source": [
    "df_pg = pg.df\n",
    "df_hoge = hoge.df\n",
    "obj_opt = obj(x)\n",
    "plot(df_pg.iter, abs.(df_pg.obj .- obj_opt), xaxis=\"k\", yaxis=raw\"$\\log_{10}|Ψ(x^k) - Ψ(x^*)|$\", label=\"PG\", yscale=:log10)\n",
    "plot!(df_hoge.iter, abs.(df_hoge.obj .- obj_opt), xaxis=\"k\", yaxis=raw\"$\\log_{10}|Ψ(x^k) - Ψ(x^*)|$\", label=\"HOGE\", yscale=:log10)\n",
    "savefig(result_dir * \"-diffobj.png\")\n",
    "print(\"saved \", result_dir * \"-diffobj.png\\n\")\n",
    "plot(df_pg.iter, df_pg.obj, xaxis=\"k\", yaxis=raw\"$\\log_{10}|Ψ(x^k)|$\", label=\"PG\", yscale=:log10)\n",
    "plot!(df_hoge.iter, df_hoge.obj, xaxis=\"k\", yaxis=raw\"$\\log_{10}|Ψ(x^k)|$\", label=\"HOGE\", yscale=:log10)\n",
    "savefig(result_dir * \"-objv.png\")\n",
    "print(\"saved \", result_dir * \"-objv.png\\n\")"
   ]
  },
  {
   "cell_type": "markdown",
   "id": "67c32f70",
   "metadata": {},
   "source": [
    "### 横軸を時間にしたもの\n",
    "提出は反復数を横軸にしたグラフのみで十分ですが（もちろん，提出しても構いません），計算時間を横軸にして比較も可能です．\n",
    "しかし，上で述べた通り，初回実行時はコンパイル処理が含まれてしまうので，何回かアルゴリズムを実行して，コンパイルが含まれていない結果をプロットすると公平に比較ができます．"
   ]
  },
  {
   "cell_type": "code",
   "execution_count": 5,
   "id": "0e9569a5",
   "metadata": {},
   "outputs": [
    {
     "name": "stdout",
     "output_type": "stream",
     "text": [
      "saved ./results/least-squares_200-300-0.05-0.00015-diffobj-time.png\n",
      "saved ./results/least-squares_200-300-0.05-0.00015-objv-time.png\n"
     ]
    }
   ],
   "source": [
    "plot(df_pg.time, abs.(df_pg.obj .- obj_opt), xaxis=\"time (sec)\", yaxis=raw\"$\\log_{10}|Ψ(x^k) - Ψ(x^*)|$\", label=\"PG\", yscale=:log10)\n",
    "plot!(df_hoge.time, abs.(df_hoge.obj .- obj_opt), xaxis=\"time (sec)\", yaxis=raw\"$\\log_{10}|Ψ(x^k) - Ψ(x^*)|$\", label=\"HOGE\", yscale=:log10)\n",
    "savefig(result_dir * \"-diffobj-time.png\")\n",
    "print(\"saved \", result_dir * \"-diffobj-time.png\\n\")\n",
    "plot(df_pg.time, df_pg.obj, xaxis=\"time (sec)\", yaxis=raw\"$\\log_{10}|Ψ(x^k)|$\", label=\"PG\", yscale=:log10)\n",
    "plot!(df_hoge.time, df_hoge.obj, xaxis=\"time (sec)\", yaxis=raw\"$\\log_{10}|Ψ(x^k)|$\", label=\"HOGE\", yscale=:log10)\n",
    "savefig(result_dir * \"-objv-time.png\")\n",
    "print(\"saved \", result_dir * \"-objv-time.png\\n\")"
   ]
  }
 ],
 "metadata": {
  "kernelspec": {
   "display_name": "Julia 1.10.4",
   "language": "julia",
   "name": "julia-1.10"
  },
  "language_info": {
   "file_extension": ".jl",
   "mimetype": "application/julia",
   "name": "julia",
   "version": "1.10.4"
  }
 },
 "nbformat": 4,
 "nbformat_minor": 5
}
